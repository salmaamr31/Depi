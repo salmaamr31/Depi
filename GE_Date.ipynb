{
  "nbformat": 4,
  "nbformat_minor": 0,
  "metadata": {
    "colab": {
      "provenance": []
    },
    "kernelspec": {
      "name": "python3",
      "display_name": "Python 3"
    },
    "language_info": {
      "name": "python"
    }
  },
  "cells": [
    {
      "cell_type": "code",
      "execution_count": 38,
      "metadata": {
        "colab": {
          "base_uri": "https://localhost:8080/",
          "height": 17
        },
        "id": "50cEIqr9r8Tm",
        "outputId": "b69b06bc-7ff2-4df4-8f46-e7c837727be1"
      },
      "outputs": [
        {
          "output_type": "display_data",
          "data": {
            "text/plain": [
              "<IPython.core.display.Javascript object>"
            ],
            "application/javascript": [
              "\n",
              "    async function download(id, filename, size) {\n",
              "      if (!google.colab.kernel.accessAllowed) {\n",
              "        return;\n",
              "      }\n",
              "      const div = document.createElement('div');\n",
              "      const label = document.createElement('label');\n",
              "      label.textContent = `Downloading \"${filename}\": `;\n",
              "      div.appendChild(label);\n",
              "      const progress = document.createElement('progress');\n",
              "      progress.max = size;\n",
              "      div.appendChild(progress);\n",
              "      document.body.appendChild(div);\n",
              "\n",
              "      const buffers = [];\n",
              "      let downloaded = 0;\n",
              "\n",
              "      const channel = await google.colab.kernel.comms.open(id);\n",
              "      // Send a message to notify the kernel that we're ready.\n",
              "      channel.send({})\n",
              "\n",
              "      for await (const message of channel.messages) {\n",
              "        // Send a message to notify the kernel that we're ready.\n",
              "        channel.send({})\n",
              "        if (message.buffers) {\n",
              "          for (const buffer of message.buffers) {\n",
              "            buffers.push(buffer);\n",
              "            downloaded += buffer.byteLength;\n",
              "            progress.value = downloaded;\n",
              "          }\n",
              "        }\n",
              "      }\n",
              "      const blob = new Blob(buffers, {type: 'application/binary'});\n",
              "      const a = document.createElement('a');\n",
              "      a.href = window.URL.createObjectURL(blob);\n",
              "      a.download = filename;\n",
              "      div.appendChild(a);\n",
              "      a.click();\n",
              "      div.remove();\n",
              "    }\n",
              "  "
            ]
          },
          "metadata": {}
        },
        {
          "output_type": "display_data",
          "data": {
            "text/plain": [
              "<IPython.core.display.Javascript object>"
            ],
            "application/javascript": [
              "download(\"download_f8f9f7a6-3d41-495b-b1e3-c20b6d29a551\", \"GE_Data.xlsx\", 13783718)"
            ]
          },
          "metadata": {}
        }
      ],
      "source": [
        "import pandas as pd\n",
        "import numpy as np\n",
        "from google.colab import files\n",
        "\n",
        "\n",
        "df=pd.read_excel(\"GE_Data.xlsx\")\n",
        "#Convert to Title case\n",
        "df['Customers.City']=df['Customers.City'].str.title()\n",
        "\n",
        "#Fill nulls\n",
        "df['Stores.Square Meters']=df['Stores.Square Meters'].fillna(0)\n",
        "\n",
        "#Convert weird characters to letters\n",
        "df['Stores.State'] = df['Stores.State'].str.replace(r'[^a-zA-Z]', 'e', regex=True)\n",
        "\n",
        "#Calculate Customers Age\n",
        "today= pd.to_datetime('today')\n",
        "df['Customers.Birthday']=pd.to_datetime(df['Customers.Birthday'])\n",
        "df['Customers.Age']=(today-df['Customers.Birthday']).dt.days//365\n",
        "\n",
        "#Calculate Age Range\n",
        "conditions = [\n",
        "    (df['Customers.Age'] >= 20) & (df['Customers.Age'] <= 40),\n",
        "    (df['Customers.Age'] >= 41) & (df['Customers.Age'] <= 60),\n",
        "    (df['Customers.Age'] >= 61)\n",
        "]\n",
        "\n",
        "choices = ['Young Adult', 'Middle_aged Adult', 'Senior']\n",
        "\n",
        "df['Age Range'] = np.select(conditions, choices, default='unknown')\n",
        "#print(df['Customers.Age'],df['Age Range'])\n",
        "\n",
        "#Calculate Delivery time\n",
        "df['Delivery Date']=pd.to_datetime(df['Delivery Date'])\n",
        "df['Order Date']=pd.to_datetime(df['Order Date'])\n",
        "df['Delivery Time'] = np.where(df['Delivery Date'].isnull(), 0, (df['Delivery Date'] - df['Order Date']).dt.days)\n",
        "df['Delivery Time'] = df['Delivery Time'].astype(int)\n",
        "#print(df['Delivery Time'])\n",
        "\n",
        "#Calculate Revenue,Cost,Profit\n",
        "df['Revenue']=df['Unit Price USD']*df['Quantity']\n",
        "df['Cost']=df['Unit Cost USD']*df['Quantity']\n",
        "df['Profit']=df['Revenue']-df['Cost']\n",
        "#print(df['Revenue'],df['Cost'],df['Profit'])\n",
        "\n",
        "#Calculate Order Status\n",
        "df['StoreKey']=df['StoreKey'].astype(int)\n",
        "df['Status'] = np.where(df['StoreKey'] == 0, 'Online', 'In Store')\n",
        "\n",
        "#print(df['Status'])\n",
        "output_file = 'GE_Data.xlsx'  # Specify your desired filename\n",
        "df.to_excel(output_file, index=False, sheet_name='Store Data')\n",
        "\n",
        "# Download the Excel file\n",
        "files.download(output_file)\n",
        "\n",
        "\n",
        "\n",
        "\n",
        "\n",
        "\n",
        "\n"
      ]
    }
  ]
}